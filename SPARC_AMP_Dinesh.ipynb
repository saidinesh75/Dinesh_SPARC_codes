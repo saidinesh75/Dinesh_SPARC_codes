{
 "cells": [
  {
   "cell_type": "code",
   "execution_count": 1,
   "metadata": {},
   "outputs": [],
   "source": [
    "import os\n",
    "os.environ['TF_CPP_MIN_LOG_LEVEL'] = '2' # BE QUIET!!!! (info and warnings are not printed)\n",
    "# os.environ[\"CUDA_VISIBLE_DEVICES\"] = \"0\"\n",
    "\n",
    "import numpy as np \n",
    "import matplotlib.pyplot as plt\n",
    "\n",
    "import math\n",
    "import sys\n",
    "import numpy.linalg as la\n",
    "import numpy.matlib\n",
    "import tensorflow.compat.v1 as tf\n",
    "\n",
    "rng = np.random.RandomState(seed=None)\n",
    "import pickle"
   ]
  },
  {
   "cell_type": "code",
   "execution_count": 2,
   "metadata": {},
   "outputs": [],
   "source": [
    "# out_list = []"
   ]
  },
  {
   "cell_type": "markdown",
   "metadata": {},
   "source": [
    "Parameter Initialization"
   ]
  },
  {
   "cell_type": "code",
   "execution_count": 3,
   "metadata": {
    "notebookRunGroups": {
     "groupValue": "1"
    }
   },
   "outputs": [],
   "source": [
    "system_params   = {'P': 10.0,   # Average codeword symbol power constraint\n",
    "                 'R': 0.5,      # Rate\n",
    "                 'L': 32,      # Number of sections\n",
    "                 'M': 512,       # Columns per section\n",
    "                 #'awgn_var':1,  # variance of noise\n",
    "                 'snr_rx': 31,  # SNR at the receiver  (not in dB)   (SNR of 15 gives a capacity of 2 bits/sec)\n",
    "                 'dist': 0      # 0 for flat and 1 for exponential\n",
    "                }"
   ]
  },
  {
   "cell_type": "markdown",
   "metadata": {},
   "source": [
    "# AMP Encoding"
   ]
  },
  {
   "cell_type": "code",
   "execution_count": 4,
   "metadata": {},
   "outputs": [],
   "source": [
    "def power_dist(power_dist_params):\n",
    "    power_dist_params_list = ['P','L','n','capacity','dist']\n",
    "    P,L,n,capacity,dist =  map(power_dist_params.get, power_dist_params_list) \n",
    "\n",
    "    #Flat power Distribution\n",
    "    P_vec_flat = P/L * np.ones((L,1))  # Considering Flat power distribution. Can also do exponential distribution\n",
    "\n",
    "    # Exponential Power distribution\n",
    "    P_vec_unnorm = np.ones(L)\n",
    "    for i in range(L):\n",
    "        kappa = 2*capacity\n",
    "        P_vec_unnorm[i] = np.power(2, (-kappa*i)/L )\n",
    "    pow_exp = np.sum(P_vec_unnorm)\n",
    "    P_vec_exp = (P/pow_exp) * P_vec_unnorm    # Normalising such that the sum of Pi's = P\n",
    "\n",
    "    if dist==0:\n",
    "        beta_non_zero_values = np.sqrt(n*P_vec_flat)\n",
    "        P_vec = P_vec_flat\n",
    "    else:\n",
    "        beta_non_zero_values = np.sqrt(n*P_vec_exp).reshape((L,1))      #use for exponential power distribution\n",
    "        P_vec = P_vec_exp.reshape((L,1))\n",
    "\n",
    "    return beta_non_zero_values,P_vec"
   ]
  },
  {
   "cell_type": "code",
   "execution_count": 5,
   "metadata": {},
   "outputs": [],
   "source": [
    "# JUST FOR TESTING\n",
    "# power_dist_params = {'P':15,\n",
    "#                         'L':100,\n",
    "#                         'n':1200,\n",
    "#                         'capacity':2,\n",
    "#                         'dist':1        # dist=0 for flat and 1 for exponential\n",
    "#                          }\n",
    "# beta_non_zero_values, P_vec = power_dist(power_dist_params)\n",
    "# print(np.sum(P_vec),np.shape(P_vec), np.shape(beta_non_zero_values))"
   ]
  },
  {
   "cell_type": "code",
   "execution_count": 6,
   "metadata": {},
   "outputs": [],
   "source": [
    "def generate_message(system_params,rng,cols):\n",
    "    system_params_list = ['P','R','L','M','snr_rx','dist']\n",
    "    P,R,L,M,snr_rx,dist = map(system_params.get, system_params_list) \n",
    "    N = L*M\n",
    "\n",
    "    # Sparse Message vectors with ones (number of msg vectors=cols)\n",
    "    beta = np.zeros((L*M,cols))\n",
    "    beta_val = np.zeros((L*M, cols))\n",
    "\n",
    "    # Same Sparse Message vectors with power allocated non-zero values\n",
    "    beta2 = np.zeros((L*M,cols))\n",
    "    beta2_val = np.zeros((L*M, cols))\n",
    "\n",
    "    #Section sizes \n",
    "    bit_len = int(round(L*np.log2(M)))\n",
    "    logM = int(round(np.log2(M)))\n",
    "    sec_size = logM\n",
    "    L = bit_len // sec_size\n",
    "\n",
    "    # Actual rate\n",
    "    n = int(round(bit_len/R))\n",
    "    R_actual = bit_len / n      \n",
    "\n",
    "    # SNR and noise variance calculation\n",
    "    #snr_rx = np.power(10., snr_rx/10.) * (N/n)              # *log2M (not sure if it should be there)  # according to LISTA code\n",
    "    #snr_rx = P/awgn_var\n",
    "\n",
    "    capacity = 0.5 * np.log2(1 + snr_rx)\n",
    "    \n",
    "    awgn_var = P/snr_rx\n",
    "    sigma = np.sqrt(awgn_var)\n",
    "    \n",
    "    SNR_params = {'snr_rx':snr_rx,\n",
    "                 'awgn_var':awgn_var,\n",
    "                 'capacity':capacity}\n",
    "\n",
    "    # Power allocation\n",
    "    power_dist_params = {'P':P,\n",
    "                        'L':L,\n",
    "                        'n':n,\n",
    "                        'capacity':capacity,\n",
    "                        'dist':dist        # dist=0 for flat and 1 for exponential\n",
    "                         }\n",
    "    beta_non_zero_values, P_vec = power_dist(power_dist_params)\n",
    "\n",
    "    for i in range(2*cols):\n",
    "        bits_in = rng.randint(2, size=bit_len)\n",
    "        beta0 = np.zeros(L*M)   #placeholder for beta and beta_val (nonzeros =1)\n",
    "        beta1 = np.zeros(L*M)   #placeholder for beta2 and beta2_val (nonzeros = power allocated values)\n",
    "\n",
    "        for l in range(L):\n",
    "            bits_sec = bits_in[l*sec_size : l*sec_size + logM]\n",
    "            assert 0<logM<64\n",
    "            idx = bits_sec.dot(1 << np.arange(logM)[::-1])\n",
    "            beta0[l*M + idx] = 1\n",
    "            beta1[l*M + idx] = beta_non_zero_values[l]\n",
    "\n",
    "        # storing first 'cols' vectors in beta(beta2) and the next 'cols' vectors in beta_val(beta2_val)\n",
    "        if i < cols:\n",
    "            beta[:,i-1] = beta0\n",
    "            beta2[:,i-1] = beta1\n",
    "        else:\n",
    "            beta_val[:,i - cols] = beta0\n",
    "            beta2_val[:, i - cols] = beta1\n",
    "\n",
    "        delim = np.zeros([2,L])\n",
    "        delim[0,0] = 0\n",
    "        delim[1,0] = M-1\n",
    "\n",
    "        for i in range(1,L):\n",
    "            delim[0,i] = delim[1,i-1]+1\n",
    "            delim[1,i] = delim[1,i-1]+M\n",
    "\n",
    "    new_system_params = {'n':n,\n",
    "                        'R_actual': R_actual,\n",
    "                        'delim': delim,\n",
    "                        'P_vec':P_vec\n",
    "                        }\n",
    "                        \n",
    "    return beta, beta2, beta_val, beta2_val, new_system_params,SNR_params, \n"
   ]
  },
  {
   "cell_type": "markdown",
   "metadata": {},
   "source": [
    "Extracting all the system parameters "
   ]
  },
  {
   "cell_type": "code",
   "execution_count": 7,
   "metadata": {
    "notebookRunGroups": {
     "groupValue": "1"
    }
   },
   "outputs": [],
   "source": [
    "system_params_list = ['P','R','L','M','snr_rx']\n",
    "P,R,L,M,snr_rx = map(system_params.get, system_params_list)\n",
    "N = L*M \n",
    "\n",
    "# Generating the message vectors\n",
    "cols = 100\n",
    "beta, beta2, beta_val, beta2_val, new_system_params, SNR_params = generate_message(system_params,rng,cols)\n",
    "\n",
    "\n",
    "# # vectors with 1s\n",
    "# beta = beta.reshape(N,)\n",
    "# beta_val = beta_val.reshape(N,)\n",
    "\n",
    "# # vectors with power allocated values (need to be used for matrix received vector generation)\n",
    "# beta2 = beta.reshape(N,)\n",
    "# beta2_val = beta_val.reshape(N,)\n",
    "\n",
    "\n",
    "# Extracting the new system parameters\n",
    "new_system_params_list = ['n','R_actual','delim','P_vec']\n",
    "n, R, delim,P_vec = map(new_system_params.get, new_system_params_list)\n",
    "\n",
    "\n",
    "# Extracting the SNR params\n",
    "SNR_params_list = ['snr_rx','awgn_var','capacity']\n",
    "# SNR_params_list = ['snr_rx','capacity']\n",
    "snr_rx,awgn_var,capacity = map(SNR_params.get, SNR_params_list)\n",
    "sigma = np.sqrt(awgn_var)"
   ]
  },
  {
   "cell_type": "markdown",
   "metadata": {},
   "source": [
    "Generating the A matrix and the received vector (after adding noise)"
   ]
  },
  {
   "cell_type": "code",
   "execution_count": null,
   "metadata": {
    "notebookRunGroups": {
     "groupValue": "1"
    }
   },
   "outputs": [],
   "source": [
    "A_unn = np.random.normal(size=(n, N), scale=1.0 / math.sqrt(n)).astype(np.float32)\n",
    "A = A_unn/np.linalg.norm(A_unn,axis=0) \n",
    "y = np.matmul(A,beta2) + np.random.normal( size = (n,cols), scale = math.sqrt(awgn_var) )\n",
    "\n",
    "# need to check how to get ||Ax||^2 = ||x||^2"
   ]
  },
  {
   "cell_type": "code",
   "execution_count": null,
   "metadata": {},
   "outputs": [],
   "source": [
    "# testing for how to normalise A such that ||Ax||^2 = ||x||^2\n",
    "# A_unnorm_test = np.random.normal(size=(3, 3), scale=1.0 / math.sqrt(n)).astype(np.float32)\n",
    "# A_test_norm = np.linalg.norm(A_unnorm_test,axis=0)\n",
    "# A_unn3 = np.matlib.repmat(A_test_norm,3,1)\n",
    "# A_new_test = A_unnorm_test/A_test_norm\n",
    "# print(np.linalg.norm(A_new_test,axis=0))\n",
    "\n",
    "# x_test = np.array([1,2,3])\n",
    "# y_test = np.matmul(A_new_test,x_test)\n",
    "# x_norm_2 = (np.linalg.norm(x_test))**2\n",
    "# y_norm_2 = (np.linalg.norm(y_test))**2\n",
    "# print(x_norm_2,y_norm_2)"
   ]
  },
  {
   "cell_type": "markdown",
   "metadata": {},
   "source": [
    "# AMP Decoder"
   ]
  },
  {
   "cell_type": "code",
   "execution_count": null,
   "metadata": {},
   "outputs": [],
   "source": [
    "def tau_calculate(sigma_sq,delim, P, P_vec, T_star, n):\n",
    "    tau_vec = np.zeros((T_star,1))\n",
    "    tau_vec[0] = sigma_sq + P\n",
    "    # exp_vec = np.zeros(np.shape(P_vec))\n",
    "    ITR = 10^4\n",
    "\n",
    "    for t in range(1,T_star):\n",
    "        exp_vec = np.zeros((np.size(P_vec),1))\n",
    "\n",
    "        for i in range(ITR):\n",
    "            U = rng.randn(int(delim[-1,-1]))\n",
    "            for j in range(np.size(P_vec)):\n",
    "                num = np.exp( (np.sqrt(n*P_vec[j])/tau_vec[t-1]) * ( U[int(delim[0,j])] + (np.sqrt(n*P_vec[j])/tau_vec[t-1]) ) , dtype=np.float128)\n",
    "                denom_sum = np.sum(np.exp( (np.sqrt(n*P_vec[j])/tau_vec[t-1]) * U[ int(delim[0,j])+1 : int(delim[1,j]) ] ), dtype= np.float128) \n",
    "                #denom = num + np.sum( np.exp(np.sqrt(n*P_vec[j]) * denom_sum ))\n",
    "                denom = denom_sum + num\n",
    "   \n",
    "                exp_vec[j] =  exp_vec[j] + num/denom\n",
    "\n",
    "        exp_vec = exp_vec/ITR\n",
    "        x = np.matmul(P_vec.T,exp_vec, dtype=np.float128)/P\n",
    "        tau_vec[t] = sigma_sq + P*(1-x)\n",
    "\n",
    "    return tau_vec        "
   ]
  },
  {
   "cell_type": "code",
   "execution_count": null,
   "metadata": {},
   "outputs": [],
   "source": [
    "def eta(beta_hat, P_vec, tau, delim):\n",
    "    beta_th = np.zeros(np.shape(beta_hat))\n",
    "    rows,cols = beta_hat.shape \n",
    "    L = np.size(P_vec)\n",
    "    M = rows/L\n",
    "\n",
    "    # assert M==32  #(for now)\n",
    "\n",
    "    for k in range(cols):\n",
    "        for i in range(L):\n",
    "            s = beta_hat[ int(delim[0,i]) : int(delim[1,i]+1)  , k ]\n",
    "            sec_th = np.zeros(np.size(s))\n",
    "            s1 = np.exp(s*np.sqrt(n*P_vec[i]),dtype=np.float128)\n",
    "            denom = np.sum(s1/(tau**2), dtype=np.float128)\n",
    "            \n",
    "            for j in range(np.size(s)):\n",
    "                num = np.exp( (s[j]*np.sqrt(n*P_vec[i])) / (tau**2) , dtype=np.float128)\n",
    "                sec_th[j] = np.sqrt(n*P_vec[i], dtype=np.float128)* (num/denom) \n",
    "            \n",
    "            sec_th = sec_th.reshape(np.shape(s))    \n",
    "            beta_th[ int(delim[0,i]):int(delim[1,i]+1) , k] = sec_th\n",
    "    return beta_th "
   ]
  },
  {
   "cell_type": "code",
   "execution_count": null,
   "metadata": {
    "notebookRunGroups": {
     "groupValue": "1"
    }
   },
   "outputs": [],
   "source": [
    "T_star = int(np.ceil((2*capacity)/np.log2(capacity/R)) + 1)\n",
    "tau_vec= tau_calculate(awgn_var, delim,P,P_vec,T_star,n)\n",
    "\n",
    "beta_T = np.zeros((N,cols))\n",
    "beta_hat = np.zeros((N,cols))\n",
    "z = np.zeros((n,cols))\n",
    "\n",
    "for t in range(T_star):\n",
    "    z = y - np.matmul(A, beta_hat) + (z/tau_vec[t])*(P - (np.linalg.norm(beta_hat)**2)/n )\n",
    "    beta_hat = beta_hat + np.matmul(A.T,z)\n",
    "    beta_hat = eta(beta_hat,P_vec, tau_vec[t],delim)\n",
    "    \n",
    "for j in range(L):\n",
    "    loc = np.argmax( beta_hat[ int(delim[0,j]) : int(delim[1,j]) ], axis=0 )\n",
    "    for k in range(np.size(loc)):\n",
    "        beta_T[ int(delim[0,j]) + loc[k],k ] = 1\n",
    "        "
   ]
  },
  {
   "cell_type": "code",
   "execution_count": null,
   "metadata": {
    "notebookRunGroups": {
     "groupValue": "1"
    }
   },
   "outputs": [],
   "source": [
    "check = beta-beta_T\n",
    "check_sum = np.sum(np.absolute(check),axis=0)/2\n",
    "check_avg = int(np.average(check_sum))"
   ]
  },
  {
   "cell_type": "code",
   "execution_count": null,
   "metadata": {},
   "outputs": [],
   "source": [
    "output_params = system_params.copy()\n",
    "output_params['check_avg']=check_avg"
   ]
  },
  {
   "cell_type": "code",
   "execution_count": null,
   "metadata": {},
   "outputs": [],
   "source": [
    "filename = 'Avg_ction_error_rate_output'"
   ]
  },
  {
   "cell_type": "code",
   "execution_count": null,
   "metadata": {},
   "outputs": [],
   "source": [
    "infile = open(filename,'rb')\n",
    "out_list = pickle.load(infile)\n"
   ]
  },
  {
   "cell_type": "code",
   "execution_count": null,
   "metadata": {},
   "outputs": [],
   "source": [
    "out_list.append(system_params)"
   ]
  },
  {
   "cell_type": "code",
   "execution_count": null,
   "metadata": {},
   "outputs": [],
   "source": [
    "# outfile = open(filename,'wb')\n",
    "with open(filename,'wb') as outfile:\n",
    "    pickle.dump(out_list,outfile)"
   ]
  },
  {
   "cell_type": "markdown",
   "metadata": {},
   "source": [
    "system_params   = {'P': 10.0,   \n",
    "                 'R': 0.5,      \n",
    "                 'L': 100,      \n",
    "                 'M': 64,       \n",
    "                 'snr_rx': 15,  \n",
    "                 'dist': 0      \n",
    "                 }\n",
    "\n",
    "Avg_section_error_Rate for the above case is 18.64 (over 100 runs)"
   ]
  }
 ],
 "metadata": {
  "kernelspec": {
   "display_name": "Python 3.9.12 ('tensorflow-test': conda)",
   "language": "python",
   "name": "python3"
  },
  "language_info": {
   "codemirror_mode": {
    "name": "ipython",
    "version": 3
   },
   "file_extension": ".py",
   "mimetype": "text/x-python",
   "name": "python",
   "nbconvert_exporter": "python",
   "pygments_lexer": "ipython3",
   "version": "3.9.12"
  },
  "orig_nbformat": 4,
  "vscode": {
   "interpreter": {
    "hash": "27581de6d80e5a5a3bac653d6793b7dc8a23f16ccb931cd5e47c2ad8a3cf817b"
   }
  }
 },
 "nbformat": 4,
 "nbformat_minor": 2
}
